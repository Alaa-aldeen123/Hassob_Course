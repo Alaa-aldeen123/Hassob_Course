{
 "cells": [
  {
   "cell_type": "code",
   "execution_count": 1,
   "id": "c0199240-e751-4b08-9b94-feae6a9b0bdc",
   "metadata": {},
   "outputs": [
    {
     "name": "stdout",
     "output_type": "stream",
     "text": [
      "<class 'pandas.core.frame.DataFrame'>\n",
      "RangeIndex: 1000 entries, 0 to 999\n",
      "Data columns (total 4 columns):\n",
      " #   Column         Non-Null Count  Dtype \n",
      "---  ------         --------------  ----- \n",
      " 0   gender         1000 non-null   object\n",
      " 1   math score     1000 non-null   int64 \n",
      " 2   reading score  1000 non-null   int64 \n",
      " 3   writing score  1000 non-null   int64 \n",
      "dtypes: int64(3), object(1)\n",
      "memory usage: 31.4+ KB\n"
     ]
    },
    {
     "data": {
      "text/html": [
       "<div>\n",
       "<style scoped>\n",
       "    .dataframe tbody tr th:only-of-type {\n",
       "        vertical-align: middle;\n",
       "    }\n",
       "\n",
       "    .dataframe tbody tr th {\n",
       "        vertical-align: top;\n",
       "    }\n",
       "\n",
       "    .dataframe thead th {\n",
       "        text-align: right;\n",
       "    }\n",
       "</style>\n",
       "<table border=\"1\" class=\"dataframe\">\n",
       "  <thead>\n",
       "    <tr style=\"text-align: right;\">\n",
       "      <th></th>\n",
       "      <th>gender</th>\n",
       "      <th>math score</th>\n",
       "      <th>reading score</th>\n",
       "      <th>writing score</th>\n",
       "    </tr>\n",
       "  </thead>\n",
       "  <tbody>\n",
       "    <tr>\n",
       "      <th>0</th>\n",
       "      <td>female</td>\n",
       "      <td>72</td>\n",
       "      <td>72</td>\n",
       "      <td>74</td>\n",
       "    </tr>\n",
       "    <tr>\n",
       "      <th>1</th>\n",
       "      <td>female</td>\n",
       "      <td>69</td>\n",
       "      <td>90</td>\n",
       "      <td>88</td>\n",
       "    </tr>\n",
       "    <tr>\n",
       "      <th>2</th>\n",
       "      <td>female</td>\n",
       "      <td>90</td>\n",
       "      <td>95</td>\n",
       "      <td>93</td>\n",
       "    </tr>\n",
       "    <tr>\n",
       "      <th>3</th>\n",
       "      <td>male</td>\n",
       "      <td>47</td>\n",
       "      <td>57</td>\n",
       "      <td>44</td>\n",
       "    </tr>\n",
       "    <tr>\n",
       "      <th>4</th>\n",
       "      <td>male</td>\n",
       "      <td>76</td>\n",
       "      <td>78</td>\n",
       "      <td>75</td>\n",
       "    </tr>\n",
       "  </tbody>\n",
       "</table>\n",
       "</div>"
      ],
      "text/plain": [
       "   gender  math score  reading score  writing score\n",
       "0  female          72             72             74\n",
       "1  female          69             90             88\n",
       "2  female          90             95             93\n",
       "3    male          47             57             44\n",
       "4    male          76             78             75"
      ]
     },
     "execution_count": 1,
     "metadata": {},
     "output_type": "execute_result"
    }
   ],
   "source": [
    "import pandas as pd\n",
    "\n",
    "df = pd.read_csv('Students_exams.csv')\n",
    "df.info()\n",
    "df.head()"
   ]
  },
  {
   "cell_type": "code",
   "execution_count": 2,
   "id": "59a14e4b-f808-4aa6-9f39-53c27af8f0bb",
   "metadata": {},
   "outputs": [
    {
     "name": "stdout",
     "output_type": "stream",
     "text": [
      "count = 1000\n"
     ]
    }
   ],
   "source": [
    "m = df['reading score'].count()\n",
    "print('count =', m)"
   ]
  },
  {
   "cell_type": "code",
   "execution_count": 3,
   "id": "47d01ad1-6c76-4174-b9f1-0c925043e15f",
   "metadata": {},
   "outputs": [
    {
     "name": "stdout",
     "output_type": "stream",
     "text": [
      "sum = 69169\n"
     ]
    }
   ],
   "source": [
    "m = df['reading score'].sum()\n",
    "print('sum =', m)"
   ]
  },
  {
   "cell_type": "code",
   "execution_count": 4,
   "id": "1dd36261-d629-4658-83fb-da63bb249cf3",
   "metadata": {},
   "outputs": [
    {
     "name": "stdout",
     "output_type": "stream",
     "text": [
      "mean = 69.169\n"
     ]
    }
   ],
   "source": [
    "m = df['reading score'].mean()\n",
    "print('mean =', m)"
   ]
  },
  {
   "cell_type": "code",
   "execution_count": 5,
   "id": "b32a9e2f-e1df-4839-a0b5-588a899625b4",
   "metadata": {},
   "outputs": [
    {
     "name": "stdout",
     "output_type": "stream",
     "text": [
      "median = 70.0\n"
     ]
    }
   ],
   "source": [
    "m = df['reading score'].median()\n",
    "print('median =', m)"
   ]
  },
  {
   "cell_type": "code",
   "execution_count": 6,
   "id": "cb1adc57-8c22-444b-9681-dbf28186c0f5",
   "metadata": {},
   "outputs": [
    {
     "name": "stdout",
     "output_type": "stream",
     "text": [
      "min = 17\n"
     ]
    }
   ],
   "source": [
    "m = df['reading score'].min()\n",
    "print('min =', m)"
   ]
  },
  {
   "cell_type": "code",
   "execution_count": 7,
   "id": "687dd5ad-64b8-4178-9f2f-3654730d5833",
   "metadata": {},
   "outputs": [
    {
     "name": "stdout",
     "output_type": "stream",
     "text": [
      "max = 100\n"
     ]
    }
   ],
   "source": [
    "m = df['reading score'].max()\n",
    "print('max =', m)"
   ]
  },
  {
   "cell_type": "code",
   "execution_count": 8,
   "id": "360a960f-b1fe-4e96-8df0-0b5af6d5c9bd",
   "metadata": {},
   "outputs": [
    {
     "name": "stdout",
     "output_type": "stream",
     "text": [
      "count = 70.0\n"
     ]
    }
   ],
   "source": [
    "# quantile(0.5) = median\n",
    "m = df['reading score'].quantile(0.5)\n",
    "print('count =', m)"
   ]
  },
  {
   "cell_type": "code",
   "execution_count": 9,
   "id": "72337c5a-baee-4a12-9518-15f9366d0e97",
   "metadata": {},
   "outputs": [
    {
     "name": "stdout",
     "output_type": "stream",
     "text": [
      "count = 59.0\n"
     ]
    }
   ],
   "source": [
    "m = df['reading score'].quantile(0.25)\n",
    "print('count =', m)"
   ]
  },
  {
   "cell_type": "code",
   "execution_count": 10,
   "id": "197069a3-87be-4e43-9e26-1a31f818c95c",
   "metadata": {},
   "outputs": [
    {
     "name": "stdout",
     "output_type": "stream",
     "text": [
      "count = 79.0\n"
     ]
    }
   ],
   "source": [
    "m = df['reading score'].quantile(0.75)\n",
    "print('count =', m)"
   ]
  },
  {
   "cell_type": "code",
   "execution_count": null,
   "id": "52be26d1-706f-4510-8aab-cfc3eecfb004",
   "metadata": {},
   "outputs": [],
   "source": []
  }
 ],
 "metadata": {
  "kernelspec": {
   "display_name": "Python 3 (ipykernel)",
   "language": "python",
   "name": "python3"
  },
  "language_info": {
   "codemirror_mode": {
    "name": "ipython",
    "version": 3
   },
   "file_extension": ".py",
   "mimetype": "text/x-python",
   "name": "python",
   "nbconvert_exporter": "python",
   "pygments_lexer": "ipython3",
   "version": "3.12.7"
  }
 },
 "nbformat": 4,
 "nbformat_minor": 5
}
