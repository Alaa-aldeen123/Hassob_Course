{
 "cells": [
  {
   "cell_type": "code",
   "execution_count": 1,
   "id": "1bc4cae8-f107-40cb-a77a-af49121c550e",
   "metadata": {},
   "outputs": [],
   "source": [
    "import numpy as np"
   ]
  },
  {
   "cell_type": "code",
   "execution_count": 2,
   "id": "a8b74615-d62b-4810-a93a-fb95b6405917",
   "metadata": {},
   "outputs": [
    {
     "name": "stdout",
     "output_type": "stream",
     "text": [
      "(array([3, 5, 6], dtype=int64),)\n",
      "[4 4 4]\n"
     ]
    }
   ],
   "source": [
    "arr = np.array([1, 2, 3, 4, 5, 4, 4])\n",
    "\n",
    "arr4 = np.where(arr == 4)\n",
    "\n",
    "print(arr4)\n",
    "\n",
    "for i in arr4:\n",
    "    print(arr[i])"
   ]
  },
  {
   "cell_type": "code",
   "execution_count": 3,
   "id": "b37414b4-cab3-4533-a7c6-771e42880bc7",
   "metadata": {},
   "outputs": [
    {
     "name": "stdout",
     "output_type": "stream",
     "text": [
      "(array([1, 3, 5, 6], dtype=int64),)\n"
     ]
    }
   ],
   "source": [
    "x = np.where(arr % 2 == 0)\n",
    "\n",
    "print(x)"
   ]
  },
  {
   "cell_type": "code",
   "execution_count": 4,
   "id": "cb28ce0a-3bb9-40b4-b8a0-842d3155212a",
   "metadata": {},
   "outputs": [
    {
     "name": "stdout",
     "output_type": "stream",
     "text": [
      "[0 1 2 3]\n"
     ]
    }
   ],
   "source": [
    "arr = np.array([3, 2, 0, 1])\n",
    "\n",
    "accending = np.sort(arr)\n",
    "\n",
    "print(accending)"
   ]
  },
  {
   "cell_type": "code",
   "execution_count": 5,
   "id": "4988b7f0-9416-48aa-8d6a-c88e3fbda1c6",
   "metadata": {},
   "outputs": [
    {
     "name": "stdout",
     "output_type": "stream",
     "text": [
      "[3 2 1 0]\n"
     ]
    }
   ],
   "source": [
    "decinding = accending[::-1] # when the step is -1 thats mean it is reversed\n",
    "\n",
    "print(decinding)"
   ]
  },
  {
   "cell_type": "code",
   "execution_count": 6,
   "id": "5e3821de-a1f8-4e39-9646-bde9b6debb3e",
   "metadata": {},
   "outputs": [
    {
     "name": "stdout",
     "output_type": "stream",
     "text": [
      "['apple' 'banana' 'cherry']\n"
     ]
    }
   ],
   "source": [
    "arr = np.array(['banana', 'cherry', 'apple'])\n",
    "\n",
    "new = np.sort(arr)\n",
    "\n",
    "print(new)"
   ]
  },
  {
   "cell_type": "code",
   "execution_count": 7,
   "id": "52bee741-fe93-46f1-8029-9e40e2cad642",
   "metadata": {},
   "outputs": [
    {
     "name": "stdout",
     "output_type": "stream",
     "text": [
      "[42 44]\n"
     ]
    }
   ],
   "source": [
    "arr = np.array([41, 42, 43, 44])\n",
    "\n",
    "filtter_arr = [False, True, False, True]\n",
    "new = arr[filtter_arr]\n",
    "\n",
    "print(new)"
   ]
  },
  {
   "cell_type": "code",
   "execution_count": 15,
   "id": "0d0b348f-9041-48c7-98e2-088bff900a3b",
   "metadata": {},
   "outputs": [
    {
     "name": "stdout",
     "output_type": "stream",
     "text": [
      "[43 44]\n",
      "[43, 44]\n",
      "[43 44]\n"
     ]
    },
    {
     "data": {
      "text/plain": [
       "array([41, 42, 43, 44])"
      ]
     },
     "execution_count": 15,
     "metadata": {},
     "output_type": "execute_result"
    }
   ],
   "source": [
    "arr = np.array([41, 42, 43, 44])\n",
    "\n",
    "filtter_arr = []\n",
    "\n",
    "for i in arr:\n",
    "    if i > 42:\n",
    "        filtter_arr.append(True)\n",
    "    else:\n",
    "        filtter_arr.append(False)\n",
    "\n",
    "newarr = arr[filtter_arr]\n",
    "\n",
    "print(newarr)\n",
    "\n",
    "new = [i for i in arr if i > 42]\n",
    "print(new)\n",
    "\n",
    "new2 = arr[arr > 42]\n",
    "print(new2)\n",
    "\n",
    "arr"
   ]
  },
  {
   "cell_type": "code",
   "execution_count": 12,
   "id": "4d76f9ed-7733-4818-b203-d2a7172d49b9",
   "metadata": {},
   "outputs": [
    {
     "name": "stdout",
     "output_type": "stream",
     "text": [
      "[2 4 6]\n",
      "[False  True False  True False  True False]\n"
     ]
    }
   ],
   "source": [
    "arr = np.array([1, 2, 3, 4, 5, 6, 7])\n",
    "\n",
    "filtter_arr = arr % 2 == 0\n",
    "\n",
    "newarr = arr[filtter_arr]\n",
    "\n",
    "print(newarr)\n",
    "print(filtter_arr)"
   ]
  },
  {
   "cell_type": "code",
   "execution_count": 16,
   "id": "6cfde4ec-e00b-438d-bb1a-0f1557b57df1",
   "metadata": {},
   "outputs": [
    {
     "data": {
      "text/plain": [
       "(2, 4)"
      ]
     },
     "execution_count": 16,
     "metadata": {},
     "output_type": "execute_result"
    }
   ],
   "source": [
    "arr = np.array([[1, 2, 3, 4], [5, 6, 7, 8]])\n",
    "\n",
    "arr.shape"
   ]
  },
  {
   "cell_type": "code",
   "execution_count": 17,
   "id": "c231a0bb-70d3-479f-b1a8-721114292b8b",
   "metadata": {},
   "outputs": [
    {
     "name": "stdout",
     "output_type": "stream",
     "text": [
      "[[ 1  2  3  4]\n",
      " [ 5  6  7  8]\n",
      " [ 9 10 11 12]]\n"
     ]
    }
   ],
   "source": [
    "arr = np.array([1, 2, 3, 4, 5, 6, 7, 8, 9, 10, 11, 12])\n",
    "\n",
    "new = arr.reshape(3,4)\n",
    "\n",
    "print(new)"
   ]
  },
  {
   "cell_type": "code",
   "execution_count": 18,
   "id": "ca26dd78-b2fd-4206-bb55-789cb7179924",
   "metadata": {},
   "outputs": [
    {
     "name": "stdout",
     "output_type": "stream",
     "text": [
      "[ 1  2  3  4  5  6  7  8  9 10 11 12]\n"
     ]
    }
   ],
   "source": [
    "flat = new.reshape(-1) # -1 in reshape function flats the array\n",
    "\n",
    "print(flat)"
   ]
  },
  {
   "cell_type": "code",
   "execution_count": null,
   "id": "d32e1d50-7ebd-4551-9f59-b12829bbf994",
   "metadata": {},
   "outputs": [],
   "source": []
  }
 ],
 "metadata": {
  "kernelspec": {
   "display_name": "Python 3 (ipykernel)",
   "language": "python",
   "name": "python3"
  },
  "language_info": {
   "codemirror_mode": {
    "name": "ipython",
    "version": 3
   },
   "file_extension": ".py",
   "mimetype": "text/x-python",
   "name": "python",
   "nbconvert_exporter": "python",
   "pygments_lexer": "ipython3",
   "version": "3.12.7"
  }
 },
 "nbformat": 4,
 "nbformat_minor": 5
}
