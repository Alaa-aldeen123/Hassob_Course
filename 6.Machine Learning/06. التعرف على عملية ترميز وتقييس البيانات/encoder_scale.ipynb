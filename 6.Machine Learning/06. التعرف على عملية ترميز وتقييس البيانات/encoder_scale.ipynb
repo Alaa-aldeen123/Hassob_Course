{
 "cells": [
  {
   "cell_type": "code",
   "execution_count": 1,
   "id": "f2f16907-aeed-4a4b-ba39-78d6fa4771fd",
   "metadata": {},
   "outputs": [],
   "source": [
    "Temp = ['Low', 'High', 'Normal', 'Low', 'Low', 'Normal', 'High', 'Normal', 'High']"
   ]
  },
  {
   "cell_type": "code",
   "execution_count": 3,
   "id": "74aa569b-1834-4b03-8d3f-384b8337d016",
   "metadata": {},
   "outputs": [
    {
     "name": "stdout",
     "output_type": "stream",
     "text": [
      "[1 0 2 1 1 2 0 2 0]\n"
     ]
    }
   ],
   "source": [
    "from sklearn.preprocessing import LabelEncoder\n",
    "\n",
    "le = LabelEncoder()\n",
    "\n",
    "le.fit(Temp)\n",
    "\n",
    "temp_encode = le.transform(Temp)\n",
    "\n",
    "print(temp_encode)"
   ]
  },
  {
   "cell_type": "code",
   "execution_count": 4,
   "id": "310d4efa-1ab8-4c2f-97a6-8b8e2ba22eca",
   "metadata": {},
   "outputs": [
    {
     "name": "stdout",
     "output_type": "stream",
     "text": [
      "['High' 'Low' 'Normal']\n"
     ]
    }
   ],
   "source": [
    "print(le.classes_)"
   ]
  },
  {
   "cell_type": "code",
   "execution_count": 8,
   "id": "b276d0a6-9af4-40f2-9586-55f023182200",
   "metadata": {},
   "outputs": [
    {
     "name": "stdout",
     "output_type": "stream",
     "text": [
      "High [0]\n",
      "Low [1]\n",
      "Normal [2]\n"
     ]
    }
   ],
   "source": [
    "for i in le.classes_:\n",
    "    print(i , le.transform([i]))"
   ]
  },
  {
   "cell_type": "code",
   "execution_count": 9,
   "id": "7a11d2a1-f091-4d7a-9f82-a9426eeb12de",
   "metadata": {},
   "outputs": [
    {
     "name": "stdout",
     "output_type": "stream",
     "text": [
      "['Normal' 'Low' 'High']\n"
     ]
    }
   ],
   "source": [
    "values = [2, 1, 0]\n",
    "\n",
    "inv_values = le.inverse_transform(values)\n",
    "\n",
    "print(inv_values)"
   ]
  },
  {
   "cell_type": "code",
   "execution_count": 16,
   "id": "125937ce-4810-4323-9f18-fca9bae42f07",
   "metadata": {},
   "outputs": [
    {
     "name": "stdout",
     "output_type": "stream",
     "text": [
      "[[  1.      1.      1.   ]\n",
      " [ 25.75   35.65   30.   ]\n",
      " [ 75.25   62.875  60.   ]\n",
      " [100.    100.    100.   ]]\n"
     ]
    }
   ],
   "source": [
    "from sklearn.preprocessing import MinMaxScaler  # take range\n",
    "\n",
    "x = [[2000, 20, 1], [3000, 34, 30], [5000, 45, 60], [6000, 60, 100]]\n",
    "\n",
    "data_scaler = MinMaxScaler(feature_range=(1, 100))\n",
    "\n",
    "data_scaler.fit(x)\n",
    "\n",
    "mx = data_scaler.transform(x)\n",
    "\n",
    "print(mx)"
   ]
  },
  {
   "cell_type": "code",
   "execution_count": 18,
   "id": "d1eb1e62-8a4a-4656-9606-d9900b8f6e95",
   "metadata": {},
   "outputs": [
    {
     "name": "stdout",
     "output_type": "stream",
     "text": [
      "[[-1.26491106 -1.34635188 -1.27464781]\n",
      " [-0.63245553 -0.39197586 -0.48395719]\n",
      " [ 0.63245553  0.35789101  0.33399862]\n",
      " [ 1.26491106  1.38043673  1.42460637]]\n"
     ]
    }
   ],
   "source": [
    "from sklearn.preprocessing import StandardScaler  # take the mean and variation\n",
    "\n",
    "x = [[2000, 20, 1], [3000, 34, 30], [5000, 45, 60], [6000, 60, 100]]\n",
    "\n",
    "sc = StandardScaler()\n",
    "\n",
    "TX = sc.fit_transform(x) # equal .fit() and .transform() functions\n",
    "\n",
    "print(TX)"
   ]
  }
 ],
 "metadata": {
  "kernelspec": {
   "display_name": "Python 3 (ipykernel)",
   "language": "python",
   "name": "python3"
  },
  "language_info": {
   "codemirror_mode": {
    "name": "ipython",
    "version": 3
   },
   "file_extension": ".py",
   "mimetype": "text/x-python",
   "name": "python",
   "nbconvert_exporter": "python",
   "pygments_lexer": "ipython3",
   "version": "3.12.7"
  }
 },
 "nbformat": 4,
 "nbformat_minor": 5
}
