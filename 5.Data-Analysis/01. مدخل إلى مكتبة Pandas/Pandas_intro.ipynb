{
 "cells": [
  {
   "cell_type": "code",
   "execution_count": 1,
   "id": "e296d581-941c-4030-9150-360a2119f635",
   "metadata": {},
   "outputs": [],
   "source": [
    "import pandas as pd"
   ]
  },
  {
   "cell_type": "code",
   "execution_count": 2,
   "id": "929bf6ce-5c08-499a-8a90-ec8476cdf6c2",
   "metadata": {},
   "outputs": [
    {
     "name": "stdout",
     "output_type": "stream",
     "text": [
      "Empty DataFrame\n",
      "Columns: []\n",
      "Index: []\n"
     ]
    }
   ],
   "source": [
    "data = []\n",
    "df = pd.DataFrame(data)\n",
    "print(df)"
   ]
  },
  {
   "cell_type": "code",
   "execution_count": 8,
   "id": "0262dab3-fc9c-4242-9c79-42633430860e",
   "metadata": {},
   "outputs": [
    {
     "name": "stdout",
     "output_type": "stream",
     "text": [
      "   names\n",
      "0  ahmed\n",
      "1    ali\n",
      "2  nader\n"
     ]
    }
   ],
   "source": [
    "data = ['ahmed','ali','nader']\n",
    "df = pd.DataFrame(data,columns=['names'])\n",
    "print(df)"
   ]
  },
  {
   "cell_type": "code",
   "execution_count": 9,
   "id": "c231dcf7-94c9-4ca9-a542-345f429a97f9",
   "metadata": {},
   "outputs": [
    {
     "name": "stdout",
     "output_type": "stream",
     "text": [
      "        Names\n",
      "first   ahmed\n",
      "second    ali\n",
      "third   nader\n"
     ]
    }
   ],
   "source": [
    "\n",
    "df = pd.DataFrame(data, index=['first','second','third'], columns=['Names'])\n",
    "print(df)"
   ]
  },
  {
   "cell_type": "code",
   "execution_count": 12,
   "id": "e7d0bc89-b2aa-434f-8c4b-f6fea83cdcc7",
   "metadata": {},
   "outputs": [
    {
     "name": "stdout",
     "output_type": "stream",
     "text": [
      "    name  age\n",
      "0  ahmed   20\n",
      "1    ali   15\n",
      "2  nader   16\n"
     ]
    }
   ],
   "source": [
    "data = {'name': ('ahmed','ali','nader'),\n",
    "        'age': (20,15,16)}\n",
    "df= pd.DataFrame(data)\n",
    "print(df)"
   ]
  },
  {
   "cell_type": "code",
   "execution_count": null,
   "id": "893a6667-ff66-4232-8b28-afa8440f5104",
   "metadata": {},
   "outputs": [],
   "source": []
  }
 ],
 "metadata": {
  "kernelspec": {
   "display_name": "Python 3 (ipykernel)",
   "language": "python",
   "name": "python3"
  },
  "language_info": {
   "codemirror_mode": {
    "name": "ipython",
    "version": 3
   },
   "file_extension": ".py",
   "mimetype": "text/x-python",
   "name": "python",
   "nbconvert_exporter": "python",
   "pygments_lexer": "ipython3",
   "version": "3.12.7"
  }
 },
 "nbformat": 4,
 "nbformat_minor": 5
}
