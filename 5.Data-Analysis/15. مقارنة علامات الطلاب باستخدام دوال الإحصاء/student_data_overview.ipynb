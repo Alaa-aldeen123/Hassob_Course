{
 "cells": [
  {
   "cell_type": "code",
   "execution_count": 1,
   "id": "b720269f-8795-4675-af72-6b9fdd544f37",
   "metadata": {},
   "outputs": [
    {
     "name": "stdout",
     "output_type": "stream",
     "text": [
      "<class 'pandas.core.frame.DataFrame'>\n",
      "RangeIndex: 1000 entries, 0 to 999\n",
      "Data columns (total 4 columns):\n",
      " #   Column         Non-Null Count  Dtype \n",
      "---  ------         --------------  ----- \n",
      " 0   gender         1000 non-null   object\n",
      " 1   math score     1000 non-null   int64 \n",
      " 2   reading score  1000 non-null   int64 \n",
      " 3   writing score  1000 non-null   int64 \n",
      "dtypes: int64(3), object(1)\n",
      "memory usage: 31.4+ KB\n"
     ]
    }
   ],
   "source": [
    "import pandas as pd\n",
    "\n",
    "df = pd.read_csv('Students_exams.csv')\n",
    "df.info()"
   ]
  },
  {
   "cell_type": "code",
   "execution_count": 2,
   "id": "b3e7df0a-2859-4c8a-a9e8-0454f65ee590",
   "metadata": {},
   "outputs": [],
   "source": [
    "df.rename(columns={\n",
    "    'math score': 'math_score',\n",
    "    'reading score': 'reading_score',\n",
    "    'writing score': 'writing_score'\n",
    "},inplace= True)"
   ]
  },
  {
   "cell_type": "code",
   "execution_count": 3,
   "id": "e5e63c16-85c7-40ee-8648-cd5e11a9b057",
   "metadata": {},
   "outputs": [],
   "source": [
    "statics_df = pd.DataFrame(columns=['statics','math','reading','writing'])"
   ]
  },
  {
   "cell_type": "code",
   "execution_count": 4,
   "id": "3a48778d-603c-4df0-82fb-3aa181d27c3d",
   "metadata": {},
   "outputs": [],
   "source": [
    "x = df['math_score'].count()\n",
    "y = df['reading_score'].count()\n",
    "z = df['writing_score'].count()\n",
    "\n",
    "row = {'statics':'count', 'math': x, 'reading':y, 'writing':z}\n",
    "#statics_df = statics_df.append(row, ignore_index= True)\n",
    "statics_df  = pd.concat([statics_df, pd.DataFrame.from_records([row])], ignore_index = True)"
   ]
  },
  {
   "cell_type": "code",
   "execution_count": 5,
   "id": "3fc5431d-4149-45d2-9757-0cfcef4822c7",
   "metadata": {},
   "outputs": [],
   "source": [
    "x = df['math_score'].sum()\n",
    "y = df['reading_score'].sum()\n",
    "z = df['writing_score'].sum()\n",
    "\n",
    "row = {'statics':'sum', 'math': x, 'reading':y, 'writing':z}\n",
    "statics_df  = pd.concat([statics_df, pd.DataFrame.from_records([row])], ignore_index = True)"
   ]
  },
  {
   "cell_type": "code",
   "execution_count": 6,
   "id": "b93b1c2b-e657-464d-8249-a6d8c6ae3615",
   "metadata": {},
   "outputs": [],
   "source": [
    "x = df['math_score'].mean()\n",
    "y = df['reading_score'].mean()\n",
    "z = df['writing_score'].mean()\n",
    "\n",
    "row = {'statics':'mean', 'math': x, 'reading':y, 'writing':z}\n",
    "statics_df  = pd.concat([statics_df, pd.DataFrame.from_records([row])], ignore_index = True)"
   ]
  },
  {
   "cell_type": "code",
   "execution_count": 7,
   "id": "662f0e05-0abb-4b7f-8b79-02626c0205aa",
   "metadata": {},
   "outputs": [],
   "source": [
    "x = df['math_score'].median()\n",
    "y = df['reading_score'].median()\n",
    "z = df['writing_score'].median()\n",
    "\n",
    "row = {'statics':'median', 'math': x, 'reading':y, 'writing':z}\n",
    "statics_df  = pd.concat([statics_df, pd.DataFrame.from_records([row])], ignore_index = True)"
   ]
  },
  {
   "cell_type": "code",
   "execution_count": 8,
   "id": "8528308f-b6b9-4258-8a24-0aaa5a31e0f3",
   "metadata": {},
   "outputs": [],
   "source": [
    "x = df['math_score'].mode()[]\n",
    "y = df['reading_score'].mode()\n",
    "z = df['writing_score'].mode()\n",
    "\n",
    "row = {'statics':'mode', 'math': x, 'reading':y, 'writing':z}\n",
    "statics_df  = pd.concat([statics_df, pd.DataFrame.from_records([row])], ignore_index = True)"
   ]
  },
  {
   "cell_type": "code",
   "execution_count": 9,
   "id": "5d04b1f2-f055-4729-b3b3-af9b4dfeee1b",
   "metadata": {},
   "outputs": [],
   "source": [
    "x = df['math_score'].min()\n",
    "y = df['reading_score'].min()\n",
    "z = df['writing_score'].min()\n",
    "\n",
    "row = {'statics':'min', 'math': x, 'reading':y, 'writing':z}\n",
    "statics_df  = pd.concat([statics_df, pd.DataFrame.from_records([row])], ignore_index = True)"
   ]
  },
  {
   "cell_type": "code",
   "execution_count": 10,
   "id": "eae025ea-5b55-4f93-aa46-5d16eb3253d3",
   "metadata": {},
   "outputs": [],
   "source": [
    "x = df['math_score'].max()\n",
    "y = df['reading_score'].max()\n",
    "z = df['writing_score'].max()\n",
    "\n",
    "row = {'statics':'max', 'math': x, 'reading':y, 'writing':z}\n",
    "statics_df  = pd.concat([statics_df, pd.DataFrame.from_records([row])], ignore_index = True)"
   ]
  },
  {
   "cell_type": "code",
   "execution_count": 11,
   "id": "e9a4089a-dcae-4be4-946e-7751332030c9",
   "metadata": {},
   "outputs": [],
   "source": [
    "x = df['math_score'].std()\n",
    "y = df['reading_score'].std()\n",
    "z = df['writing_score'].std()\n",
    "\n",
    "row = {'statics':'std', 'math': x, 'reading':y, 'writing':z}\n",
    "statics_df  = pd.concat([statics_df, pd.DataFrame.from_records([row])], ignore_index = True)"
   ]
  },
  {
   "cell_type": "code",
   "execution_count": 12,
   "id": "26b016a0-38f9-434e-baa9-0ecb2870de9a",
   "metadata": {},
   "outputs": [
    {
     "data": {
      "text/html": [
       "<div>\n",
       "<style scoped>\n",
       "    .dataframe tbody tr th:only-of-type {\n",
       "        vertical-align: middle;\n",
       "    }\n",
       "\n",
       "    .dataframe tbody tr th {\n",
       "        vertical-align: top;\n",
       "    }\n",
       "\n",
       "    .dataframe thead th {\n",
       "        text-align: right;\n",
       "    }\n",
       "</style>\n",
       "<table border=\"1\" class=\"dataframe\">\n",
       "  <thead>\n",
       "    <tr style=\"text-align: right;\">\n",
       "      <th></th>\n",
       "      <th>statics</th>\n",
       "      <th>math</th>\n",
       "      <th>reading</th>\n",
       "      <th>writing</th>\n",
       "    </tr>\n",
       "  </thead>\n",
       "  <tbody>\n",
       "    <tr>\n",
       "      <th>0</th>\n",
       "      <td>count</td>\n",
       "      <td>1000</td>\n",
       "      <td>1000</td>\n",
       "      <td>1000</td>\n",
       "    </tr>\n",
       "    <tr>\n",
       "      <th>1</th>\n",
       "      <td>sum</td>\n",
       "      <td>66089</td>\n",
       "      <td>69169</td>\n",
       "      <td>68054</td>\n",
       "    </tr>\n",
       "    <tr>\n",
       "      <th>2</th>\n",
       "      <td>mead</td>\n",
       "      <td>66.089</td>\n",
       "      <td>69.169</td>\n",
       "      <td>68.054</td>\n",
       "    </tr>\n",
       "    <tr>\n",
       "      <th>3</th>\n",
       "      <td>median</td>\n",
       "      <td>66.0</td>\n",
       "      <td>70.0</td>\n",
       "      <td>69.0</td>\n",
       "    </tr>\n",
       "    <tr>\n",
       "      <th>4</th>\n",
       "      <td>mode</td>\n",
       "      <td>0    65\n",
       "Name: math_score, dtype: int64</td>\n",
       "      <td>0    72\n",
       "Name: reading_score, dtype: int64</td>\n",
       "      <td>0    74\n",
       "Name: writing_score, dtype: int64</td>\n",
       "    </tr>\n",
       "    <tr>\n",
       "      <th>5</th>\n",
       "      <td>min</td>\n",
       "      <td>0</td>\n",
       "      <td>17</td>\n",
       "      <td>10</td>\n",
       "    </tr>\n",
       "    <tr>\n",
       "      <th>6</th>\n",
       "      <td>max</td>\n",
       "      <td>100</td>\n",
       "      <td>100</td>\n",
       "      <td>100</td>\n",
       "    </tr>\n",
       "    <tr>\n",
       "      <th>7</th>\n",
       "      <td>std</td>\n",
       "      <td>15.16308</td>\n",
       "      <td>14.600192</td>\n",
       "      <td>15.195657</td>\n",
       "    </tr>\n",
       "  </tbody>\n",
       "</table>\n",
       "</div>"
      ],
      "text/plain": [
       "  statics                                    math  \\\n",
       "0   count                                    1000   \n",
       "1     sum                                   66089   \n",
       "2    mead                                  66.089   \n",
       "3  median                                    66.0   \n",
       "4    mode  0    65\n",
       "Name: math_score, dtype: int64   \n",
       "5     min                                       0   \n",
       "6     max                                     100   \n",
       "7     std                                15.16308   \n",
       "\n",
       "                                     reading  \\\n",
       "0                                       1000   \n",
       "1                                      69169   \n",
       "2                                     69.169   \n",
       "3                                       70.0   \n",
       "4  0    72\n",
       "Name: reading_score, dtype: int64   \n",
       "5                                         17   \n",
       "6                                        100   \n",
       "7                                  14.600192   \n",
       "\n",
       "                                     writing  \n",
       "0                                       1000  \n",
       "1                                      68054  \n",
       "2                                     68.054  \n",
       "3                                       69.0  \n",
       "4  0    74\n",
       "Name: writing_score, dtype: int64  \n",
       "5                                         10  \n",
       "6                                        100  \n",
       "7                                  15.195657  "
      ]
     },
     "execution_count": 12,
     "metadata": {},
     "output_type": "execute_result"
    }
   ],
   "source": [
    "statics_df"
   ]
  },
  {
   "cell_type": "code",
   "execution_count": null,
   "id": "733ca33f-bc21-4ae3-aa50-fdf000335f67",
   "metadata": {},
   "outputs": [],
   "source": []
  }
 ],
 "metadata": {
  "kernelspec": {
   "display_name": "Python 3 (ipykernel)",
   "language": "python",
   "name": "python3"
  },
  "language_info": {
   "codemirror_mode": {
    "name": "ipython",
    "version": 3
   },
   "file_extension": ".py",
   "mimetype": "text/x-python",
   "name": "python",
   "nbconvert_exporter": "python",
   "pygments_lexer": "ipython3",
   "version": "3.12.7"
  }
 },
 "nbformat": 4,
 "nbformat_minor": 5
}
