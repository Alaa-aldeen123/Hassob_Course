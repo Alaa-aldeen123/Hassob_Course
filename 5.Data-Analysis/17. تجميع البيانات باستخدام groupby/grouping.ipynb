{
 "cells": [
  {
   "cell_type": "code",
   "execution_count": 1,
   "id": "8bba7622-d247-481c-b65d-cadf5528c033",
   "metadata": {},
   "outputs": [
    {
     "name": "stdout",
     "output_type": "stream",
     "text": [
      "<class 'pandas.core.frame.DataFrame'>\n",
      "RangeIndex: 52 entries, 0 to 51\n",
      "Data columns (total 4 columns):\n",
      " #   Column   Non-Null Count  Dtype \n",
      "---  ------   --------------  ----- \n",
      " 0   Id       52 non-null     int64 \n",
      " 1   Gender   52 non-null     object\n",
      " 2   Country  52 non-null     object\n",
      " 3   Amount   52 non-null     int64 \n",
      "dtypes: int64(2), object(2)\n",
      "memory usage: 1.8+ KB\n"
     ]
    }
   ],
   "source": [
    "import pandas as pd\n",
    "\n",
    "df = pd.read_csv('Ecommerce.csv')\n",
    "df.info()"
   ]
  },
  {
   "cell_type": "code",
   "execution_count": 3,
   "id": "f858793f-0ca5-46b5-a7cb-9ab3d780d392",
   "metadata": {},
   "outputs": [
    {
     "data": {
      "text/plain": [
       "{'KSA': [0, 1, 2, 4, 5, 9, 17, 33, 37, 39, 40, 41, 42, 44, 46, 47, 49, 50, 51], 'Kuwait': [3, 6, 11, 15, 16, 18, 19, 23, 26, 30, 31, 32, 34, 35, 36, 38, 43, 48], 'UAE': [7, 8, 10, 12, 13, 14, 20, 21, 22, 24, 25, 27, 28, 29, 45]}"
      ]
     },
     "execution_count": 3,
     "metadata": {},
     "output_type": "execute_result"
    }
   ],
   "source": [
    "grouped = df.groupby(['Country'])\n",
    "grouped.groups"
   ]
  },
  {
   "cell_type": "code",
   "execution_count": 16,
   "id": "d7452a1d-decf-4def-a883-96b7f9b1770d",
   "metadata": {},
   "outputs": [
    {
     "name": "stderr",
     "output_type": "stream",
     "text": [
      "C:\\Users\\User\\AppData\\Local\\Temp\\ipykernel_12728\\2099027905.py:2: FutureWarning: When grouping with a length-1 list-like, you will need to pass a length-1 tuple to get_group in a future version of pandas. Pass `(name,)` instead of `name` to silence this warning.\n",
      "  grouped.get_group('KSA')\n"
     ]
    },
    {
     "data": {
      "text/html": [
       "<div>\n",
       "<style scoped>\n",
       "    .dataframe tbody tr th:only-of-type {\n",
       "        vertical-align: middle;\n",
       "    }\n",
       "\n",
       "    .dataframe tbody tr th {\n",
       "        vertical-align: top;\n",
       "    }\n",
       "\n",
       "    .dataframe thead th {\n",
       "        text-align: right;\n",
       "    }\n",
       "</style>\n",
       "<table border=\"1\" class=\"dataframe\">\n",
       "  <thead>\n",
       "    <tr style=\"text-align: right;\">\n",
       "      <th></th>\n",
       "      <th>Id</th>\n",
       "      <th>Gender</th>\n",
       "      <th>Country</th>\n",
       "      <th>Amount</th>\n",
       "    </tr>\n",
       "  </thead>\n",
       "  <tbody>\n",
       "    <tr>\n",
       "      <th>0</th>\n",
       "      <td>1</td>\n",
       "      <td>male</td>\n",
       "      <td>KSA</td>\n",
       "      <td>1500</td>\n",
       "    </tr>\n",
       "    <tr>\n",
       "      <th>1</th>\n",
       "      <td>2</td>\n",
       "      <td>male</td>\n",
       "      <td>KSA</td>\n",
       "      <td>2000</td>\n",
       "    </tr>\n",
       "    <tr>\n",
       "      <th>2</th>\n",
       "      <td>3</td>\n",
       "      <td>male</td>\n",
       "      <td>KSA</td>\n",
       "      <td>3000</td>\n",
       "    </tr>\n",
       "    <tr>\n",
       "      <th>4</th>\n",
       "      <td>5</td>\n",
       "      <td>female</td>\n",
       "      <td>KSA</td>\n",
       "      <td>1000</td>\n",
       "    </tr>\n",
       "    <tr>\n",
       "      <th>5</th>\n",
       "      <td>6</td>\n",
       "      <td>male</td>\n",
       "      <td>KSA</td>\n",
       "      <td>1500</td>\n",
       "    </tr>\n",
       "    <tr>\n",
       "      <th>9</th>\n",
       "      <td>10</td>\n",
       "      <td>female</td>\n",
       "      <td>KSA</td>\n",
       "      <td>1000</td>\n",
       "    </tr>\n",
       "    <tr>\n",
       "      <th>17</th>\n",
       "      <td>18</td>\n",
       "      <td>male</td>\n",
       "      <td>KSA</td>\n",
       "      <td>3000</td>\n",
       "    </tr>\n",
       "    <tr>\n",
       "      <th>33</th>\n",
       "      <td>34</td>\n",
       "      <td>male</td>\n",
       "      <td>KSA</td>\n",
       "      <td>2000</td>\n",
       "    </tr>\n",
       "    <tr>\n",
       "      <th>37</th>\n",
       "      <td>38</td>\n",
       "      <td>female</td>\n",
       "      <td>KSA</td>\n",
       "      <td>1000</td>\n",
       "    </tr>\n",
       "    <tr>\n",
       "      <th>39</th>\n",
       "      <td>40</td>\n",
       "      <td>female</td>\n",
       "      <td>KSA</td>\n",
       "      <td>1500</td>\n",
       "    </tr>\n",
       "    <tr>\n",
       "      <th>40</th>\n",
       "      <td>41</td>\n",
       "      <td>female</td>\n",
       "      <td>KSA</td>\n",
       "      <td>2000</td>\n",
       "    </tr>\n",
       "    <tr>\n",
       "      <th>41</th>\n",
       "      <td>42</td>\n",
       "      <td>female</td>\n",
       "      <td>KSA</td>\n",
       "      <td>1000</td>\n",
       "    </tr>\n",
       "    <tr>\n",
       "      <th>42</th>\n",
       "      <td>43</td>\n",
       "      <td>female</td>\n",
       "      <td>KSA</td>\n",
       "      <td>1500</td>\n",
       "    </tr>\n",
       "    <tr>\n",
       "      <th>44</th>\n",
       "      <td>45</td>\n",
       "      <td>female</td>\n",
       "      <td>KSA</td>\n",
       "      <td>3000</td>\n",
       "    </tr>\n",
       "    <tr>\n",
       "      <th>46</th>\n",
       "      <td>47</td>\n",
       "      <td>female</td>\n",
       "      <td>KSA</td>\n",
       "      <td>1000</td>\n",
       "    </tr>\n",
       "    <tr>\n",
       "      <th>47</th>\n",
       "      <td>48</td>\n",
       "      <td>female</td>\n",
       "      <td>KSA</td>\n",
       "      <td>1500</td>\n",
       "    </tr>\n",
       "    <tr>\n",
       "      <th>49</th>\n",
       "      <td>50</td>\n",
       "      <td>female</td>\n",
       "      <td>KSA</td>\n",
       "      <td>3000</td>\n",
       "    </tr>\n",
       "    <tr>\n",
       "      <th>50</th>\n",
       "      <td>51</td>\n",
       "      <td>female</td>\n",
       "      <td>KSA</td>\n",
       "      <td>1500</td>\n",
       "    </tr>\n",
       "    <tr>\n",
       "      <th>51</th>\n",
       "      <td>52</td>\n",
       "      <td>female</td>\n",
       "      <td>KSA</td>\n",
       "      <td>2000</td>\n",
       "    </tr>\n",
       "  </tbody>\n",
       "</table>\n",
       "</div>"
      ],
      "text/plain": [
       "    Id  Gender Country  Amount\n",
       "0    1    male     KSA    1500\n",
       "1    2    male     KSA    2000\n",
       "2    3    male     KSA    3000\n",
       "4    5  female     KSA    1000\n",
       "5    6    male     KSA    1500\n",
       "9   10  female     KSA    1000\n",
       "17  18    male     KSA    3000\n",
       "33  34    male     KSA    2000\n",
       "37  38  female     KSA    1000\n",
       "39  40  female     KSA    1500\n",
       "40  41  female     KSA    2000\n",
       "41  42  female     KSA    1000\n",
       "42  43  female     KSA    1500\n",
       "44  45  female     KSA    3000\n",
       "46  47  female     KSA    1000\n",
       "47  48  female     KSA    1500\n",
       "49  50  female     KSA    3000\n",
       "50  51  female     KSA    1500\n",
       "51  52  female     KSA    2000"
      ]
     },
     "execution_count": 16,
     "metadata": {},
     "output_type": "execute_result"
    }
   ],
   "source": [
    "grouped = df.groupby(['Country'])\n",
    "grouped.get_group('KSA')"
   ]
  },
  {
   "cell_type": "code",
   "execution_count": 19,
   "id": "cc1c357e-bcd0-45cb-9252-44f147ebaa7c",
   "metadata": {},
   "outputs": [
    {
     "name": "stdout",
     "output_type": "stream",
     "text": [
      "('KSA', 'female')\n",
      "    Id  Gender Country  Amount\n",
      "4    5  female     KSA    1000\n",
      "9   10  female     KSA    1000\n",
      "37  38  female     KSA    1000\n",
      "39  40  female     KSA    1500\n",
      "40  41  female     KSA    2000\n",
      "41  42  female     KSA    1000\n",
      "42  43  female     KSA    1500\n",
      "44  45  female     KSA    3000\n",
      "46  47  female     KSA    1000\n",
      "47  48  female     KSA    1500\n",
      "49  50  female     KSA    3000\n",
      "50  51  female     KSA    1500\n",
      "51  52  female     KSA    2000\n",
      "('KSA', 'male')\n",
      "    Id Gender Country  Amount\n",
      "0    1   male     KSA    1500\n",
      "1    2   male     KSA    2000\n",
      "2    3   male     KSA    3000\n",
      "5    6   male     KSA    1500\n",
      "17  18   male     KSA    3000\n",
      "33  34   male     KSA    2000\n",
      "('Kuwait', 'female')\n",
      "    Id  Gender Country  Amount\n",
      "3    4  female  Kuwait    2000\n",
      "11  12  female  Kuwait    2000\n",
      "18  19  female  Kuwait    2000\n",
      "35  36  female  Kuwait    1000\n",
      "36  37  female  Kuwait    2000\n",
      "38  39  female  Kuwait    3000\n",
      "43  44  female  Kuwait    2000\n",
      "48  49  female  Kuwait    2000\n",
      "('Kuwait', 'male')\n",
      "    Id Gender Country  Amount\n",
      "6    7   male  Kuwait    2000\n",
      "15  16   male  Kuwait    1500\n",
      "16  17   male  Kuwait    2000\n",
      "19  20   male  Kuwait    1000\n",
      "23  24   male  Kuwait    1000\n",
      "26  27   male  Kuwait    1500\n",
      "30  31   male  Kuwait    1500\n",
      "31  32   male  Kuwait    1000\n",
      "32  33   male  Kuwait    1500\n",
      "34  35   male  Kuwait    1000\n",
      "('UAE', 'female')\n",
      "    Id  Gender Country  Amount\n",
      "10  11  female     UAE    1500\n",
      "12  13  female     UAE    3000\n",
      "14  15  female     UAE    1000\n",
      "45  46  female     UAE    1500\n",
      "('UAE', 'male')\n",
      "    Id Gender Country  Amount\n",
      "7    8   male     UAE    3000\n",
      "8    9   male     UAE    2000\n",
      "13  14   male     UAE    2000\n",
      "20  21   male     UAE    3000\n",
      "21  22   male     UAE    1500\n",
      "22  23   male     UAE    3000\n",
      "24  25   male     UAE    2000\n",
      "25  26   male     UAE    1000\n",
      "27  28   male     UAE    3000\n",
      "28  29   male     UAE    2000\n",
      "29  30   male     UAE    1000\n"
     ]
    }
   ],
   "source": [
    "grouped = df.groupby(['Country','Gender'])\n",
    "\n",
    "\n",
    "for country, gender in grouped:\n",
    "    print(country)\n",
    "    print(gender)"
   ]
  },
  {
   "cell_type": "code",
   "execution_count": 5,
   "id": "117c3b0b-e580-456f-b695-b5bffe7926cf",
   "metadata": {},
   "outputs": [
    {
     "data": {
      "text/plain": [
       "Country\n",
       "KSA       34000\n",
       "Kuwait    30000\n",
       "UAE       30500\n",
       "Name: Amount, dtype: int64"
      ]
     },
     "execution_count": 5,
     "metadata": {},
     "output_type": "execute_result"
    }
   ],
   "source": [
    "grouped = df.groupby(['Country'])['Amount'].sum()\n",
    "grouped"
   ]
  },
  {
   "cell_type": "code",
   "execution_count": 9,
   "id": "8fbd43d1-46ff-4f71-9a60-021d8b5be13e",
   "metadata": {},
   "outputs": [
    {
     "data": {
      "text/plain": [
       "Country\n",
       "KSA       34000\n",
       "UAE       30500\n",
       "Kuwait    30000\n",
       "Name: Amount, dtype: int64"
      ]
     },
     "execution_count": 9,
     "metadata": {},
     "output_type": "execute_result"
    }
   ],
   "source": [
    "grouped = df.groupby(['Country'])['Amount'].sum()\n",
    "grouped.sort_values(ascending= False)"
   ]
  },
  {
   "cell_type": "code",
   "execution_count": 10,
   "id": "d8039991-533d-4255-b1b6-c9a75c975f3d",
   "metadata": {},
   "outputs": [
    {
     "data": {
      "text/plain": [
       "Country\n",
       "KSA       19\n",
       "Kuwait    18\n",
       "UAE       15\n",
       "Name: Id, dtype: int64"
      ]
     },
     "execution_count": 10,
     "metadata": {},
     "output_type": "execute_result"
    }
   ],
   "source": [
    "grouped = df.groupby(['Country'])['Id'].count()\n",
    "grouped.sort_values(ascending= False)"
   ]
  },
  {
   "cell_type": "code",
   "execution_count": 11,
   "id": "bf2443ea-ea13-4fc9-9f93-ffefdfe9c51f",
   "metadata": {},
   "outputs": [
    {
     "data": {
      "text/plain": [
       "Country\n",
       "KSA       30.315789\n",
       "Kuwait    26.777778\n",
       "UAE       21.333333\n",
       "Name: Id, dtype: float64"
      ]
     },
     "execution_count": 11,
     "metadata": {},
     "output_type": "execute_result"
    }
   ],
   "source": [
    "grouped = df.groupby(['Country'])['Id'].mean()\n",
    "grouped.sort_values(ascending= False)"
   ]
  },
  {
   "cell_type": "code",
   "execution_count": 15,
   "id": "1043a3a2-8e69-46f7-ade0-dedf3a7444f6",
   "metadata": {},
   "outputs": [
    {
     "data": {
      "text/plain": [
       "Country  Gender\n",
       "UAE      female     4\n",
       "KSA      male       6\n",
       "Kuwait   female     8\n",
       "         male      10\n",
       "UAE      male      11\n",
       "KSA      female    13\n",
       "Name: Id, dtype: int64"
      ]
     },
     "execution_count": 15,
     "metadata": {},
     "output_type": "execute_result"
    }
   ],
   "source": [
    "grouped = df.groupby(['Country','Gender'])['Id'].count()\n",
    "grouped.sort_values()"
   ]
  },
  {
   "cell_type": "code",
   "execution_count": 23,
   "id": "c8789f27-b2bb-4303-9a5b-2e84b061466b",
   "metadata": {},
   "outputs": [
    {
     "data": {
      "text/html": [
       "<div>\n",
       "<style scoped>\n",
       "    .dataframe tbody tr th:only-of-type {\n",
       "        vertical-align: middle;\n",
       "    }\n",
       "\n",
       "    .dataframe tbody tr th {\n",
       "        vertical-align: top;\n",
       "    }\n",
       "\n",
       "    .dataframe thead th {\n",
       "        text-align: right;\n",
       "    }\n",
       "</style>\n",
       "<table border=\"1\" class=\"dataframe\">\n",
       "  <thead>\n",
       "    <tr style=\"text-align: right;\">\n",
       "      <th></th>\n",
       "      <th>sum</th>\n",
       "      <th>mean</th>\n",
       "      <th>median</th>\n",
       "      <th>numbers</th>\n",
       "    </tr>\n",
       "    <tr>\n",
       "      <th>Country</th>\n",
       "      <th></th>\n",
       "      <th></th>\n",
       "      <th></th>\n",
       "      <th></th>\n",
       "    </tr>\n",
       "  </thead>\n",
       "  <tbody>\n",
       "    <tr>\n",
       "      <th>KSA</th>\n",
       "      <td>34000</td>\n",
       "      <td>1789.473684</td>\n",
       "      <td>1500.0</td>\n",
       "      <td>19</td>\n",
       "    </tr>\n",
       "    <tr>\n",
       "      <th>Kuwait</th>\n",
       "      <td>30000</td>\n",
       "      <td>1666.666667</td>\n",
       "      <td>1750.0</td>\n",
       "      <td>18</td>\n",
       "    </tr>\n",
       "    <tr>\n",
       "      <th>UAE</th>\n",
       "      <td>30500</td>\n",
       "      <td>2033.333333</td>\n",
       "      <td>2000.0</td>\n",
       "      <td>15</td>\n",
       "    </tr>\n",
       "  </tbody>\n",
       "</table>\n",
       "</div>"
      ],
      "text/plain": [
       "           sum         mean  median  numbers\n",
       "Country                                     \n",
       "KSA      34000  1789.473684  1500.0       19\n",
       "Kuwait   30000  1666.666667  1750.0       18\n",
       "UAE      30500  2033.333333  2000.0       15"
      ]
     },
     "execution_count": 23,
     "metadata": {},
     "output_type": "execute_result"
    }
   ],
   "source": [
    "grouped = df.groupby(['Country']).agg(sum =( 'Amount','sum'), mean = ('Amount','mean'), median= ('Amount','median'), numbers= ('Id','count'))\n",
    "grouped"
   ]
  },
  {
   "cell_type": "code",
   "execution_count": 24,
   "id": "a804259b-cf41-46f3-9f28-3e62af0c3746",
   "metadata": {},
   "outputs": [
    {
     "data": {
      "text/html": [
       "<div>\n",
       "<style scoped>\n",
       "    .dataframe tbody tr th:only-of-type {\n",
       "        vertical-align: middle;\n",
       "    }\n",
       "\n",
       "    .dataframe tbody tr th {\n",
       "        vertical-align: top;\n",
       "    }\n",
       "\n",
       "    .dataframe thead th {\n",
       "        text-align: right;\n",
       "    }\n",
       "</style>\n",
       "<table border=\"1\" class=\"dataframe\">\n",
       "  <thead>\n",
       "    <tr style=\"text-align: right;\">\n",
       "      <th></th>\n",
       "      <th>sum</th>\n",
       "      <th>mean</th>\n",
       "      <th>median</th>\n",
       "      <th>numbers</th>\n",
       "    </tr>\n",
       "    <tr>\n",
       "      <th>Country</th>\n",
       "      <th></th>\n",
       "      <th></th>\n",
       "      <th></th>\n",
       "      <th></th>\n",
       "    </tr>\n",
       "  </thead>\n",
       "  <tbody>\n",
       "    <tr>\n",
       "      <th>KSA</th>\n",
       "      <td>34000</td>\n",
       "      <td>1789.473684</td>\n",
       "      <td>1500.0</td>\n",
       "      <td>19</td>\n",
       "    </tr>\n",
       "    <tr>\n",
       "      <th>UAE</th>\n",
       "      <td>30500</td>\n",
       "      <td>2033.333333</td>\n",
       "      <td>2000.0</td>\n",
       "      <td>15</td>\n",
       "    </tr>\n",
       "    <tr>\n",
       "      <th>Kuwait</th>\n",
       "      <td>30000</td>\n",
       "      <td>1666.666667</td>\n",
       "      <td>1750.0</td>\n",
       "      <td>18</td>\n",
       "    </tr>\n",
       "  </tbody>\n",
       "</table>\n",
       "</div>"
      ],
      "text/plain": [
       "           sum         mean  median  numbers\n",
       "Country                                     \n",
       "KSA      34000  1789.473684  1500.0       19\n",
       "UAE      30500  2033.333333  2000.0       15\n",
       "Kuwait   30000  1666.666667  1750.0       18"
      ]
     },
     "execution_count": 24,
     "metadata": {},
     "output_type": "execute_result"
    }
   ],
   "source": [
    "grouped = df.groupby(['Country']).agg(sum =( 'Amount','sum'), mean = ('Amount','mean'), median= ('Amount','median'), numbers= ('Id','count'))\n",
    "grouped.sort_values(by=[ 'sum'], ascending= False)"
   ]
  },
  {
   "cell_type": "code",
   "execution_count": 25,
   "id": "7c230512-a4d8-4771-9c4d-2bf9f2a37805",
   "metadata": {},
   "outputs": [
    {
     "data": {
      "text/html": [
       "<div>\n",
       "<style scoped>\n",
       "    .dataframe tbody tr th:only-of-type {\n",
       "        vertical-align: middle;\n",
       "    }\n",
       "\n",
       "    .dataframe tbody tr th {\n",
       "        vertical-align: top;\n",
       "    }\n",
       "\n",
       "    .dataframe thead th {\n",
       "        text-align: right;\n",
       "    }\n",
       "</style>\n",
       "<table border=\"1\" class=\"dataframe\">\n",
       "  <thead>\n",
       "    <tr style=\"text-align: right;\">\n",
       "      <th></th>\n",
       "      <th>sum</th>\n",
       "      <th>mean</th>\n",
       "      <th>median</th>\n",
       "      <th>numbers</th>\n",
       "    </tr>\n",
       "    <tr>\n",
       "      <th>Country</th>\n",
       "      <th></th>\n",
       "      <th></th>\n",
       "      <th></th>\n",
       "      <th></th>\n",
       "    </tr>\n",
       "  </thead>\n",
       "  <tbody>\n",
       "    <tr>\n",
       "      <th>KSA</th>\n",
       "      <td>34000</td>\n",
       "      <td>1789.473684</td>\n",
       "      <td>1500.0</td>\n",
       "      <td>19</td>\n",
       "    </tr>\n",
       "    <tr>\n",
       "      <th>UAE</th>\n",
       "      <td>30500</td>\n",
       "      <td>2033.333333</td>\n",
       "      <td>2000.0</td>\n",
       "      <td>15</td>\n",
       "    </tr>\n",
       "    <tr>\n",
       "      <th>Kuwait</th>\n",
       "      <td>30000</td>\n",
       "      <td>1666.666667</td>\n",
       "      <td>1750.0</td>\n",
       "      <td>18</td>\n",
       "    </tr>\n",
       "  </tbody>\n",
       "</table>\n",
       "</div>"
      ],
      "text/plain": [
       "           sum         mean  median  numbers\n",
       "Country                                     \n",
       "KSA      34000  1789.473684  1500.0       19\n",
       "UAE      30500  2033.333333  2000.0       15\n",
       "Kuwait   30000  1666.666667  1750.0       18"
      ]
     },
     "execution_count": 25,
     "metadata": {},
     "output_type": "execute_result"
    }
   ],
   "source": [
    "grouped = df.groupby(['Country']).agg(sum =( 'Amount','sum'), mean = ('Amount','mean'), median= ('Amount','median'), numbers= ('Id','count'))\n",
    "grouped.sort_values(by=[ 'sum','numbers'], ascending= False)"
   ]
  },
  {
   "cell_type": "code",
   "execution_count": 20,
   "id": "b3b5c74b-dca8-4ecf-9b7f-6f1af63fe55a",
   "metadata": {},
   "outputs": [
    {
     "data": {
      "text/plain": [
       "Country  Gender\n",
       "KSA      female    13\n",
       "         male       6\n",
       "Kuwait   female     8\n",
       "         male      10\n",
       "UAE      female     4\n",
       "         male      11\n",
       "Name: Id, dtype: int64"
      ]
     },
     "execution_count": 20,
     "metadata": {},
     "output_type": "execute_result"
    }
   ],
   "source": [
    "grouped = df.groupby(['Country','Gender'])['Id'].count()\n",
    "grouped"
   ]
  },
  {
   "cell_type": "code",
   "execution_count": null,
   "id": "42bf6187-3bec-48a7-91f8-a962d53d9a25",
   "metadata": {},
   "outputs": [],
   "source": []
  }
 ],
 "metadata": {
  "kernelspec": {
   "display_name": "Python 3 (ipykernel)",
   "language": "python",
   "name": "python3"
  },
  "language_info": {
   "codemirror_mode": {
    "name": "ipython",
    "version": 3
   },
   "file_extension": ".py",
   "mimetype": "text/x-python",
   "name": "python",
   "nbconvert_exporter": "python",
   "pygments_lexer": "ipython3",
   "version": "3.12.7"
  }
 },
 "nbformat": 4,
 "nbformat_minor": 5
}
